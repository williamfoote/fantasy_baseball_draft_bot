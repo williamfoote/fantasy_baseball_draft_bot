{
 "cells": [
  {
   "cell_type": "code",
   "execution_count": 6,
   "metadata": {},
   "outputs": [],
   "source": [
    "import pandas as pd\n",
    "import numpy as np\n",
    "import seaborn as sns\n",
    "import matplotlib.pyplot as plt\n",
    "from espn_api.baseball import League\n",
    "from draft_scraper import get_draft_strategy\n",
    "# Init\n",
    "# league = League(league_id=55646, year=2024, swid = '{8F5C0C75-0EC6-4CD4-9C0C-750EC64CD455}',\n",
    "            #    espn_s2 = 'AEBvIL4Dlefi3KlVW0JH87iCDbcx0707HaHAXb8P3MgYzjwJWCk1xxdv5Jx7tR0CBOFRNPNOwgz1%2BwcsidB7tbVivNai4urRBeT%2FzXT59InIGYVeI8KHVfwy1eHZmQy%2FS5MDXM8caPu0seOzHhRF7PpYibmzCnmRCN4OBxBDrUEioqe%2BJsL93wEsl6ElDWE8Ff8laLi4MLZUbN6gQ1jFiCYdqwbmAOfCPIK%2Fe%2FnVRRdIoI5jpK82fUujjmoDqqkDj%2BTRTERwvpxvTx49B%2F3FKZCj9GzKr3N8dh46X%2FUermxajA%3D%3D')\n",
    "            \n",
    "league = League(league_id=55646, year=2023, swid = '{8F5C0C75-0EC6-4CD4-9C0C-750EC64CD455}',\n",
    "               espn_s2 = 'AEBvIL4Dlefi3KlVW0JH87iCDbcx0707HaHAXb8P3MgYzjwJWCk1xxdv5Jx7tR0CBOFRNPNOwgz1%2BwcsidB7tbVivNai4urRBeT%2FzXT59InIGYVeI8KHVfwy1eHZmQy%2FS5MDXM8caPu0seOzHhRF7PpYibmzCnmRCN4OBxBDrUEioqe%2BJsL93wEsl6ElDWE8Ff8laLi4MLZUbN6gQ1jFiCYdqwbmAOfCPIK%2Fe%2FnVRRdIoI5jpK82fUujjmoDqqkDj%2BTRTERwvpxvTx49B%2F3FKZCj9GzKr3N8dh46X%2FUermxajA%3D%3D')\n",
    "league22 = League(league_id=55646, year=2022, swid = '{8F5C0C75-0EC6-4CD4-9C0C-750EC64CD455}',\n",
    "               espn_s2 = 'AEBvIL4Dlefi3KlVW0JH87iCDbcx0707HaHAXb8P3MgYzjwJWCk1xxdv5Jx7tR0CBOFRNPNOwgz1%2BwcsidB7tbVivNai4urRBeT%2FzXT59InIGYVeI8KHVfwy1eHZmQy%2FS5MDXM8caPu0seOzHhRF7PpYibmzCnmRCN4OBxBDrUEioqe%2BJsL93wEsl6ElDWE8Ff8laLi4MLZUbN6gQ1jFiCYdqwbmAOfCPIK%2Fe%2FnVRRdIoI5jpK82fUujjmoDqqkDj%2BTRTERwvpxvTx49B%2F3FKZCj9GzKr3N8dh46X%2FUermxajA%3D%3D')\n",
    "\n",
    "league21 = League(league_id=55646, year=2021, swid = '{8F5C0C75-0EC6-4CD4-9C0C-750EC64CD455}',\n",
    "               espn_s2 = 'AEBvIL4Dlefi3KlVW0JH87iCDbcx0707HaHAXb8P3MgYzjwJWCk1xxdv5Jx7tR0CBOFRNPNOwgz1%2BwcsidB7tbVivNai4urRBeT%2FzXT59InIGYVeI8KHVfwy1eHZmQy%2FS5MDXM8caPu0seOzHhRF7PpYibmzCnmRCN4OBxBDrUEioqe%2BJsL93wEsl6ElDWE8Ff8laLi4MLZUbN6gQ1jFiCYdqwbmAOfCPIK%2Fe%2FnVRRdIoI5jpK82fUujjmoDqqkDj%2BTRTERwvpxvTx49B%2F3FKZCj9GzKr3N8dh46X%2FUermxajA%3D%3D')\n",
    "\n",
    "league17 = League(league_id=55646, year=2017, swid = '{8F5C0C75-0EC6-4CD4-9C0C-750EC64CD455}',\n",
    "               espn_s2 = 'AEBvIL4Dlefi3KlVW0JH87iCDbcx0707HaHAXb8P3MgYzjwJWCk1xxdv5Jx7tR0CBOFRNPNOwgz1%2BwcsidB7tbVivNai4urRBeT%2FzXT59InIGYVeI8KHVfwy1eHZmQy%2FS5MDXM8caPu0seOzHhRF7PpYibmzCnmRCN4OBxBDrUEioqe%2BJsL93wEsl6ElDWE8Ff8laLi4MLZUbN6gQ1jFiCYdqwbmAOfCPIK%2Fe%2FnVRRdIoI5jpK82fUujjmoDqqkDj%2BTRTERwvpxvTx49B%2F3FKZCj9GzKr3N8dh46X%2FUermxajA%3D%3D')\n",
    " "
   ]
  },
  {
   "cell_type": "markdown",
   "metadata": {},
   "source": [
    "## Use espn_api to get the free agent and player list from the data"
   ]
  },
  {
   "cell_type": "code",
   "execution_count": 28,
   "metadata": {},
   "outputs": [
    {
     "data": {
      "text/plain": [
       "[(Player(Drew Rasmussen), 42584),\n",
       " (Player(Kodai Senga), 4142421),\n",
       " (Player(Cal Raleigh), 41292),\n",
       " (Player(Ha-Seong Kim), 4089862),\n",
       " (Player(Brandon Marsh), 40803),\n",
       " (Player(Reid Detmers), 4326697),\n",
       " (Player(Trevor Rogers), 39640),\n",
       " (Player(Alex Lange), 40976),\n",
       " (Player(Alexis Diaz), 4905920),\n",
       " (Player(Andrew Painter), 4872683),\n",
       " (Player(Anthony Volpe), 42547),\n",
       " (Player(Brandon Hughes), 5001301),\n",
       " (Player(Brayan Bello), 4720856),\n",
       " (Player(Brendan Donovan), 41773),\n",
       " (Player(Bryan De La Cruz), 40787),\n",
       " (Player(Bryson Stott), 42417),\n",
       " (Player(Camilo Doval), 41337),\n",
       " (Player(Christopher Morel), 42927),\n",
       " (Player(Justin Dunn), 40992),\n",
       " (Player(Diego Castillo), 39103),\n",
       " (Player(Spencer Strider), 4307825),\n",
       " (Player(Michael Harris II), 42470),\n",
       " (Player(Vinnie Pasquantino), 4109109),\n",
       " (Player(Felix Bautista), 4905859),\n",
       " (Player(Gunnar Henderson), 42507),\n",
       " (Player(Nathaniel Lowe), 40538),\n",
       " (Player(Nick Lodolo), 42433),\n",
       " (Player(George Kirby), 42406),\n",
       " (Player(Seiya Suzuki), 4142424),\n",
       " (Player(Jake McCarthy), 41197),\n",
       " (Player(Masataka Yoshida), 4872598),\n",
       " (Player(Vaughn Grissom), 42503),\n",
       " (Player(Jhoan Duran), 41109),\n",
       " (Player(Oscar Gonzalez), 39400),\n",
       " (Player(Joey Meneses), 34534),\n",
       " (Player(Lars Nootbaar), 4448736),\n",
       " (Player(Evan Phillips), 37911),\n",
       " (Player(Miguel Vargas), 42453)]"
      ]
     },
     "execution_count": 28,
     "metadata": {},
     "output_type": "execute_result"
    }
   ],
   "source": [
    "[(players_list[i], players_list[i].playerId) for i in [715, 46, 79, 116, 183, 128, 158, 148, 63, 113, 169,\n",
    "286, 176, 826, 180, 97, 662, 706, 748, 293, 811, 691, 603, 24, 686, 616, 17, 813, 699, 623, 35, 621, 68, 67, 87,\n",
    "91, 85, 101, ]]"
   ]
  },
  {
   "cell_type": "code",
   "execution_count": 20,
   "metadata": {},
   "outputs": [],
   "source": [
    "fa_list = (league.free_agents(size = 600))\n",
    "rostered_list = []\n",
    "rostered_list = rostered_list + league.get_team_data(1).roster + league.get_team_data(2).roster + league.get_team_data(3).roster + league.get_team_data(4).roster + league.get_team_data(5).roster + league.get_team_data(6).roster + league.get_team_data(7).roster + league.get_team_data(9).roster + league.get_team_data(10).roster + league.get_team_data(11).roster\n",
    "\n",
    "players_list = fa_list + rostered_list\n",
    "num_positions = []\n",
    "names = []\n",
    "ids = []\n",
    "pos = []\n",
    "for player in players_list:\n",
    "    elig = player.eligibleSlots\n",
    "    clean_elig = [val for val in elig if val not in ['BE','1B/3B', '2B/SS', 'IL', 'UTIL', 'IF', 'OF', 'SP', 'RP']]\n",
    "    names.append(player.name)\n",
    "    ids.append(player.playerId)\n",
    "    storable_name = '-'.join(clean_elig)\n",
    "    pos.append(storable_name)\n",
    "    num_positions.append(len(clean_elig))\n",
    "\n",
    "pre_draft_rankings = get_draft_strategy(2023)"
   ]
  },
  {
   "cell_type": "code",
   "execution_count": 5,
   "metadata": {},
   "outputs": [
    {
     "data": {
      "text/html": [
       "<div>\n",
       "<style scoped>\n",
       "    .dataframe tbody tr th:only-of-type {\n",
       "        vertical-align: middle;\n",
       "    }\n",
       "\n",
       "    .dataframe tbody tr th {\n",
       "        vertical-align: top;\n",
       "    }\n",
       "\n",
       "    .dataframe thead th {\n",
       "        text-align: right;\n",
       "    }\n",
       "</style>\n",
       "<table border=\"1\" class=\"dataframe\">\n",
       "  <thead>\n",
       "    <tr style=\"text-align: right;\">\n",
       "      <th></th>\n",
       "      <th>id</th>\n",
       "      <th>pre_draft_ranking</th>\n",
       "    </tr>\n",
       "  </thead>\n",
       "  <tbody>\n",
       "    <tr>\n",
       "      <th>0</th>\n",
       "      <td>39832</td>\n",
       "      <td>1</td>\n",
       "    </tr>\n",
       "    <tr>\n",
       "      <th>1</th>\n",
       "      <td>36969</td>\n",
       "      <td>2</td>\n",
       "    </tr>\n",
       "    <tr>\n",
       "      <th>2</th>\n",
       "      <td>32081</td>\n",
       "      <td>3</td>\n",
       "    </tr>\n",
       "    <tr>\n",
       "      <th>3</th>\n",
       "      <td>32801</td>\n",
       "      <td>4</td>\n",
       "    </tr>\n",
       "    <tr>\n",
       "      <th>4</th>\n",
       "      <td>39878</td>\n",
       "      <td>5</td>\n",
       "    </tr>\n",
       "    <tr>\n",
       "      <th>...</th>\n",
       "      <td>...</td>\n",
       "      <td>...</td>\n",
       "    </tr>\n",
       "    <tr>\n",
       "      <th>2995</th>\n",
       "      <td>4722940</td>\n",
       "      <td>4245</td>\n",
       "    </tr>\n",
       "    <tr>\n",
       "      <th>2996</th>\n",
       "      <td>41320</td>\n",
       "      <td>4246</td>\n",
       "    </tr>\n",
       "    <tr>\n",
       "      <th>2997</th>\n",
       "      <td>4717897</td>\n",
       "      <td>4247</td>\n",
       "    </tr>\n",
       "    <tr>\n",
       "      <th>2998</th>\n",
       "      <td>4683389</td>\n",
       "      <td>4248</td>\n",
       "    </tr>\n",
       "    <tr>\n",
       "      <th>2999</th>\n",
       "      <td>4683372</td>\n",
       "      <td>4249</td>\n",
       "    </tr>\n",
       "  </tbody>\n",
       "</table>\n",
       "<p>3000 rows × 2 columns</p>\n",
       "</div>"
      ],
      "text/plain": [
       "           id  pre_draft_ranking\n",
       "0       39832                  1\n",
       "1       36969                  2\n",
       "2       32081                  3\n",
       "3       32801                  4\n",
       "4       39878                  5\n",
       "...       ...                ...\n",
       "2995  4722940               4245\n",
       "2996    41320               4246\n",
       "2997  4717897               4247\n",
       "2998  4683389               4248\n",
       "2999  4683372               4249\n",
       "\n",
       "[3000 rows x 2 columns]"
      ]
     },
     "execution_count": 5,
     "metadata": {},
     "output_type": "execute_result"
    }
   ],
   "source": [
    "pre_draft_rankings"
   ]
  },
  {
   "cell_type": "markdown",
   "metadata": {},
   "source": [
    "## Turn the scraped data into data frames\n"
   ]
  },
  {
   "cell_type": "code",
   "execution_count": 21,
   "metadata": {},
   "outputs": [],
   "source": [
    "names_df = pd.DataFrame(names)\n",
    "id_df = pd.DataFrame(ids)\n",
    "pos_df = pd.DataFrame(pos)\n",
    "position_df = pd.concat([names_df, id_df, pos_df], axis = 1)\n",
    "position_df.columns = ['name', 'PlayerId', 'position']\n",
    "position_df_final = pd.merge(position_df, pre_draft_rankings, left_on = 'PlayerId', right_on='id', how = 'left')"
   ]
  },
  {
   "cell_type": "markdown",
   "metadata": {},
   "source": [
    "## Read in maps and projections "
   ]
  },
  {
   "cell_type": "code",
   "execution_count": 9,
   "metadata": {},
   "outputs": [
    {
     "data": {
      "text/plain": [
       "Index(['IDPLAYER', 'PLAYERNAME', 'BIRTHDATE', 'FIRSTNAME', 'LASTNAME', 'TEAM',\n",
       "       'LG', 'POS', 'IDFANGRAPHS', 'FANGRAPHSNAME', 'MLBID', 'MLBNAME',\n",
       "       'CBSID', 'CBSNAME', 'RETROID', 'BREFID', 'NFBCID', 'NFBCNAME', 'ESPNID',\n",
       "       'ESPNNAME', 'KFFLNAME', 'DAVENPORTID', 'BPID', 'YAHOOID', 'YAHOONAME',\n",
       "       'MSTRBLLNAME', 'BATS', 'THROWS', 'FANTPROSNAME', 'LASTCOMMAFIRST',\n",
       "       'ROTOWIREID', 'FANDUELNAME', 'FANDUELID', 'DRAFTKINGSNAME', 'OTTONEUID',\n",
       "       'HQID', 'RAZZBALLNAME', 'FANTRAXID', 'FANTRAXNAME', 'ROTOWIRENAME',\n",
       "       'ALLPOS', 'NFBCLASTFIRST', 'ACTIVE', 'UNDERDOG'],\n",
       "      dtype='object')"
      ]
     },
     "execution_count": 9,
     "metadata": {},
     "output_type": "execute_result"
    }
   ],
   "source": [
    "idmap = pd.read_csv('id_map_2.csv')\n",
    "batc = pd.read_csv('batc_pr.csv')\n",
    "batc2 = pd.read_csv('bat_atc_23.csv')\n",
    "\n",
    "patc = pd.read_csv('patc_pr.csv')\n",
    "idmap.columns"
   ]
  },
  {
   "attachments": {},
   "cell_type": "markdown",
   "metadata": {},
   "source": [
    "## Do final merging"
   ]
  },
  {
   "cell_type": "code",
   "execution_count": 10,
   "metadata": {},
   "outputs": [],
   "source": [
    "batter1 = pd.merge(batc, idmap[['ESPNID', 'ESPNNAME', 'IDFANGRAPHS', 'FANTPROSNAME']], left_on='PlayerId', right_on='IDFANGRAPHS', how = 'inner')\n",
    "batter = pd.merge(batter1, position_df_final, left_on='ESPNNAME', right_on='name', how = 'left').drop_duplicates('IDFANGRAPHS', keep = 'first')\n",
    "\n",
    "pitcher1 = pd.merge(patc, idmap[['ESPNID', 'ESPNNAME', 'IDFANGRAPHS', 'FANTPROSNAME']], left_on='PlayerId', right_on='IDFANGRAPHS', how = 'inner')\n",
    "pitcher = pd.merge(pitcher1, position_df_final, left_on='ESPNNAME', right_on='name', how = 'left').drop_duplicates('IDFANGRAPHS', keep = 'first')\n",
    "\n",
    "ovr = pd.concat([batter.reset_index(drop = True), pitcher.reset_index(drop = True)], ignore_index = True)\n",
    "# Change ohtani's pr to be the sum of his two positions\n",
    "# change his pitcher columns to be the pitcher options\n",
    "shohei_sp = (ovr.loc[(ovr['name'] == 'Shohei Ohtani') & ovr['SO'] > 0]).iloc[:, 17:]\n",
    "shohei_dh = (ovr.loc[(ovr['Name'] == 'Shohei Ohtani') & (ovr['HR'] > 0)]).iloc[:, 1:17]\n",
    "shohei_comb = pd.concat([shohei_dh.reset_index(drop = True), shohei_sp.reset_index(drop = True)], axis = 1)\n",
    "shohei_comb.loc[0, 'pr'] = sum(ovr.loc[(ovr['Name'] == 'Shohei Ohtani'), 'pr'])\n",
    "\n",
    "ovr_temp = pd.concat([shohei_comb.reset_index(drop = True), ovr.reset_index(drop = True)])\n",
    "ovr_sorted = ovr_temp.sort_values(\"pr\", ascending = False).drop_duplicates('IDFANGRAPHS', keep = 'first').reset_index(drop = True)\n",
    "#ovr_sorted = ovr_sorted.loc[~ovr_sorted.PlayerId.isin(off_limits)]\n",
    "ovr_sorted.to_csv('final_cleaned_data.csv')\n"
   ]
  },
  {
   "cell_type": "code",
   "execution_count": 13,
   "metadata": {},
   "outputs": [
    {
     "data": {
      "text/plain": [
       "0            DH-SP-IL\n",
       "1         CF-RF-DH-IL\n",
       "2            LF-DH-IL\n",
       "3            1B-DH-IL\n",
       "4               CF-IL\n",
       "            ...      \n",
       "590       SS-2B/SS-IL\n",
       "591               NaN\n",
       "592              C-IL\n",
       "593    2B-SS-2B/SS-IL\n",
       "594              C-IL\n",
       "Name: position, Length: 595, dtype: object"
      ]
     },
     "execution_count": 13,
     "metadata": {},
     "output_type": "execute_result"
    }
   ],
   "source": [
    "ovr_sorted.position"
   ]
  },
  {
   "cell_type": "code",
   "execution_count": 11,
   "metadata": {},
   "outputs": [
    {
     "data": {
      "text/html": [
       "<div>\n",
       "<style scoped>\n",
       "    .dataframe tbody tr th:only-of-type {\n",
       "        vertical-align: middle;\n",
       "    }\n",
       "\n",
       "    .dataframe tbody tr th {\n",
       "        vertical-align: top;\n",
       "    }\n",
       "\n",
       "    .dataframe thead th {\n",
       "        text-align: right;\n",
       "    }\n",
       "</style>\n",
       "<table border=\"1\" class=\"dataframe\">\n",
       "  <thead>\n",
       "    <tr style=\"text-align: right;\">\n",
       "      <th></th>\n",
       "      <th>Unnamed: 0</th>\n",
       "      <th>Name</th>\n",
       "      <th>Team</th>\n",
       "      <th>PlayerId_x</th>\n",
       "      <th>AB</th>\n",
       "      <th>wAVG</th>\n",
       "      <th>wOPS</th>\n",
       "      <th>AVG</th>\n",
       "      <th>OPS</th>\n",
       "      <th>R</th>\n",
       "      <th>...</th>\n",
       "      <th>position</th>\n",
       "      <th>id</th>\n",
       "      <th>pre_draft_ranking</th>\n",
       "      <th>IP</th>\n",
       "      <th>SO</th>\n",
       "      <th>QS</th>\n",
       "      <th>ERA</th>\n",
       "      <th>WHIP</th>\n",
       "      <th>SVHD</th>\n",
       "      <th>pos</th>\n",
       "    </tr>\n",
       "  </thead>\n",
       "  <tbody>\n",
       "  </tbody>\n",
       "</table>\n",
       "<p>0 rows × 31 columns</p>\n",
       "</div>"
      ],
      "text/plain": [
       "Empty DataFrame\n",
       "Columns: [Unnamed: 0, Name, Team, PlayerId_x, AB, wAVG, wOPS, AVG, OPS, R, HR, RBI, RC, pr, rank, ESPNID, ESPNNAME, IDFANGRAPHS, FANTPROSNAME, name, PlayerId_y, position, id, pre_draft_ranking, IP, SO, QS, ERA, WHIP, SVHD, pos]\n",
       "Index: []\n",
       "\n",
       "[0 rows x 31 columns]"
      ]
     },
     "execution_count": 11,
     "metadata": {},
     "output_type": "execute_result"
    }
   ],
   "source": [
    "(ovr.loc[(ovr['Name'] == 'Shohei Ohtani') & (ovr['position'] == 'SP')])"
   ]
  }
 ],
 "metadata": {
  "kernelspec": {
   "display_name": ".venv",
   "language": "python",
   "name": "python3"
  },
  "language_info": {
   "codemirror_mode": {
    "name": "ipython",
    "version": 3
   },
   "file_extension": ".py",
   "mimetype": "text/x-python",
   "name": "python",
   "nbconvert_exporter": "python",
   "pygments_lexer": "ipython3",
   "version": "3.10.9"
  },
  "orig_nbformat": 4,
  "vscode": {
   "interpreter": {
    "hash": "76b4f6f2d6bde3db08ce27791cf14e8d55a4cd7ea64cba7d0108efde71e2ab28"
   }
  }
 },
 "nbformat": 4,
 "nbformat_minor": 2
}
