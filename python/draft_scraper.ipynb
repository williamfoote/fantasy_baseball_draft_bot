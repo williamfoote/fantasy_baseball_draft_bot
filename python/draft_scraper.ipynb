{
 "cells": [
  {
   "cell_type": "code",
   "execution_count": 2,
   "metadata": {},
   "outputs": [],
   "source": [
    "import requests\n",
    "import pandas as pd\n",
    "year = 2022\n",
    "league_id=55646\n",
    "year=2017\n",
    "swid = '{8F5C0C75-0EC6-4CD4-9C0C-750EC64CD455}'\n",
    "espn_s2 = 'AEBvIL4Dlefi3KlVW0JH87iCDbcx0707HaHAXb8P3MgYzjwJWCk1xxdv5Jx7tR0CBOFRNPNOwgz1%2BwcsidB7tbVivNai4urRBeT%2FzXT59InIGYVeI8KHVfwy1eHZmQy%2FS5MDXM8caPu0seOzHhRF7PpYibmzCnmRCN4OBxBDrUEioqe%2BJsL93wEsl6ElDWE8Ff8laLi4MLZUbN6gQ1jFiCYdqwbmAOfCPIK%2Fe%2FnVRRdIoI5jpK82fUujjmoDqqkDj%2BTRTERwvpxvTx49B%2F3FKZCj9GzKr3N8dh46X%2FUermxajA%3D%3D'\n",
    "'https://fantasy.espn.com/apis/v3/games/flb/seasons/2022/segments/0/leagues/55646?view=mDraftDetail&view=mSettings&view=mTeam&view=modular&view=mNav'\n",
    "espn_cookies = {'swid': '{8F5C0C75-0EC6-4CD4-9C0C-750EC64CD455}',\n",
    " 'espn_s2': 'AEBvIL4Dlefi3KlVW0JH87iCDbcx0707HaHAXb8P3MgYzjwJWCk1xxdv5Jx7tR0CBOFRNPNOwgz1%2BwcsidB7tbVivNai4urRBeT%2FzXT59InIGYVeI8KHVfwy1eHZmQy%2FS5MDXM8caPu0seOzHhRF7PpYibmzCnmRCN4OBxBDrUEioqe%2BJsL93wEsl6ElDWE8Ff8laLi4MLZUbN6gQ1jFiCYdqwbmAOfCPIK%2Fe%2FnVRRdIoI5jpK82fUujjmoDqqkDj%2BTRTERwvpxvTx49B%2F3FKZCj9GzKr3N8dh46X%2FUermxajA%3D%3D'}\n",
    "\n",
    "custom_headers_2 = {\n",
    " 'Connection': 'keep-alive',\n",
    " 'Accept': 'application/json, text/plain, */*',\n",
    " 'User-Agent': 'Mozilla/5.0 (Macintosh; Intel Mac OS X 10_14_6) AppleWebKit/537.36 (KHTML, like Gecko) Chrome/79.0.3945.130 Safari/537.36',\n",
    " 'x-fantasy-filter': '{\"players\":{\"filterStatsForSplitTypeIds\":{\"value\":[0]},\"filterStatsForSourceIds\":{\"value\":[1]},\"filterStatsForExternalIds\":{\"value\":[2023]},\"sortDraftRanks\":{\"sortPriority\":2,\"sortAsc\":true,\"value\":\"STANDARD\"},\"sortPercOwned\":{\"sortPriority\":3,\"sortAsc\":false},\"filterStatsForTopScoringPeriodIds\":{\"value\":5,\"additionalValue\":[\"002023\",\"102023\",\"002022\",\"012023\",\"022023\",\"032023\",\"042023\",\"062023\",\"010002023\"]}}}',\n",
    " 'x-fantasy-platform': 'kona-PROD-ee68d9ab1a30c5c961b9d2c47cb84c8f1ce2bd94',\n",
    " 'x-fantasy-source': 'kona'\n",
    "}\n",
    "\n",
    "custom_headers = {\n",
    " 'Connection': 'keep-alive',\n",
    " 'Accept': 'application/json, text/plain, */*',\n",
    " 'User-Agent': 'Mozilla/5.0 (Macintosh; Intel Mac OS X 10_14_6) AppleWebKit/537.36 (KHTML, like Gecko) Chrome/79.0.3945.130 Safari/537.36',\n",
    " 'x-fantasy-filter': '{\"filterActive\":null}',\n",
    " 'x-fantasy-platform': 'kona-PROD-1dc40132dc2070ef47881dc95b633e62cebc9913',\n",
    " 'x-fantasy-source': 'kona'\n",
    "}\n",
    "\n",
    "headers = {\n",
    " 'Connection': 'keep-alive',\n",
    " 'Accept': 'application/json, text/plain, */*',\n",
    " 'User-Agent': 'Mozilla/5.0 (Macintosh; Intel Mac OS X 10_14_6) AppleWebKit/537.36 (KHTML, like Gecko) Chrome/79.0.3945.130 Safari/537.36',\n",
    "}"
   ]
  },
  {
   "cell_type": "code",
   "execution_count": 3,
   "metadata": {},
   "outputs": [
    {
     "ename": "NameError",
     "evalue": "name 'url' is not defined",
     "output_type": "error",
     "traceback": [
      "\u001b[0;31m---------------------------------------------------------------------------\u001b[0m",
      "\u001b[0;31mNameError\u001b[0m                                 Traceback (most recent call last)",
      "Cell \u001b[0;32mIn[3], line 1\u001b[0m\n\u001b[0;32m----> 1\u001b[0m r \u001b[39m=\u001b[39m requests\u001b[39m.\u001b[39mget(url,cookies\u001b[39m=\u001b[39mespn_cookies)\n\u001b[1;32m      2\u001b[0m espn_raw_data \u001b[39m=\u001b[39m r\u001b[39m.\u001b[39mjson()\n\u001b[1;32m      3\u001b[0m draft_picks \u001b[39m=\u001b[39m espn_raw_data[\u001b[39m'\u001b[39m\u001b[39mdraftDetail\u001b[39m\u001b[39m'\u001b[39m][\u001b[39m'\u001b[39m\u001b[39mpicks\u001b[39m\u001b[39m'\u001b[39m]\n",
      "\u001b[0;31mNameError\u001b[0m: name 'url' is not defined"
     ]
    }
   ],
   "source": [
    "r = requests.get(url,cookies=espn_cookies)\n",
    "espn_raw_data = r.json()\n",
    "draft_picks = espn_raw_data['draftDetail']['picks']"
   ]
  },
  {
   "cell_type": "code",
   "execution_count": 4,
   "metadata": {},
   "outputs": [],
   "source": [
    "# draft details function\n",
    "def get_draft_details(league_id, season_id):\n",
    "    # newest API v3 url\n",
    "    espn_cookies = {'swid': '{8F5C0C75-0EC6-4CD4-9C0C-750EC64CD455}',\n",
    "    'espn_s2': 'AEBvIL4Dlefi3KlVW0JH87iCDbcx0707HaHAXb8P3MgYzjwJWCk1xxdv5Jx7tR0CBOFRNPNOwgz1%2BwcsidB7tbVivNai4urRBeT%2FzXT59InIGYVeI8KHVfwy1eHZmQy%2FS5MDXM8caPu0seOzHhRF7PpYibmzCnmRCN4OBxBDrUEioqe%2BJsL93wEsl6ElDWE8Ff8laLi4MLZUbN6gQ1jFiCYdqwbmAOfCPIK%2Fe%2FnVRRdIoI5jpK82fUujjmoDqqkDj%2BTRTERwvpxvTx49B%2F3FKZCj9GzKr3N8dh46X%2FUermxajA%3D%3D'}\n",
    "    url = 'https://fantasy.espn.com/apis/v3/games/flb/seasons/2022/segments/0/leagues/55646?view=mDraftDetail&view=mSettings&view=mTeam&view=modular&view=mNav'\n",
    "    #url = \"https://fantasy.espn.com/apis/v3/games/ffl/leagueHistory/{}?view=mDraftDetail&view=mSettings&view=mTeam&view=modular&view=mNav&seasonId={}\".format(league_id, season_id)\n",
    "    r = requests.get(url,\n",
    "                     cookies=espn_cookies,\n",
    "                     headers=headers)\n",
    "    espn_raw_data = r.json()\n",
    "    draft_picks = espn_raw_data['draftDetail']['picks']\n",
    "    df = pd.DataFrame(draft_picks)\n",
    "    # get only columns we need in draft detail\n",
    "    draft_df = df[['overallPickNumber', 'playerId', 'teamId']].copy()\n",
    "    return draft_df\n",
    "\n",
    "def historical_get_draft_details(league_id, season_id):\n",
    "    # newest API v3 url\n",
    "    #url = \"https://fantasy.espn.com/apis/v3/games/ffl/seasons/{}/segments/0/leagues/{}?view=mDraftDetail&view=mSettings&view=mTeam&view=modular&view=mNav\".format(season_id, league_id)\n",
    "    url = \"https://fantasy.espn.com/apis/v3/games/ffl/leagueHistory/{}?view=mDraftDetail&view=mSettings&view=mTeam&view=modular&view=mNav&seasonId={}\".format(league_id, season_id)\n",
    "    r = requests.get(url,\n",
    "                     headers=headers,\n",
    "                     cookies=espn_cookies)\n",
    "    espn_raw_data = r.json()\n",
    "    espn_draft_detail = espn_raw_data[0]\n",
    "    draft_picks = espn_draft_detail['draftDetail']['picks']\n",
    "    df = pd.DataFrame(draft_picks)\n",
    "    # get only columns we need in draft detail\n",
    "    draft_df = df[['overallPickNumber', 'playerId', 'teamId']].copy()\n",
    "    return draft_df\n",
    "    \n",
    "\n",
    "# get player info\n",
    "def get_player_info(season_id):\n",
    "    #url = \"https://fantasy.espn.com/apis/v3/games/ffl/leagueHistory/{}?view=mDraftDetail&view=mSettings&view=mTeam&view=modular&view=mNav&seasonId={}\".format(league_id, season_id)\n",
    "    url = \"https://fantasy.espn.com/apis/v3/games/flb/seasons/{}/players?scoringPeriodId=0&view=players_wl\".format(season_id)\n",
    "    r = requests.get(url,\n",
    "                    cookies=espn_cookies,\n",
    "                    headers=custom_headers)\n",
    "    player_data = r.json()\n",
    "    df = pd.DataFrame(player_data)\n",
    "    # get only needed columns for players\n",
    "    player_df = df[['defaultPositionId','fullName','id','proTeamId']].copy()\n",
    "    # rename in column\n",
    "    player_df.rename(columns = {'id':'player_id'}, inplace = True)\n",
    "    return player_df\n",
    "\n",
    "# get team information\n",
    "def get_team_info(season_id):\n",
    "    url = \"https://fantasy.espn.com/apis/v3/games/flb/seasons/{}?view=proTeamSchedules_wl\".format(season_id)\n",
    "    r = requests.get(url,\n",
    "                     headers=headers,\n",
    "                     cookies=espn_cookies)\n",
    "    team_data = r.json()\n",
    "    team_names = team_data['settings']['proTeams']\n",
    "    df = pd.DataFrame(team_names)\n",
    "    # get only needed columns for teams\n",
    "    team_df = df[['id', 'location', 'name']].copy()\n",
    "    team_df[\"team name\"] = team_df['location'].astype(str) +\" \"+ team_df[\"name\"]\n",
    "    # rename in column\n",
    "    team_df.rename(columns = {'id':'team_id'}, inplace = True)\n",
    "    return team_df\n",
    "\n",
    "# get team information\n",
    "def get_draft_strategy(season_id):\n",
    "    url = \"https://fantasy.espn.com/apis/v3/games/flb/seasons/{}/segments/0/leagues/55646?view=kona_player_info_edit_draft_strategy\".format(season_id)\n",
    "    r = requests.get(url,\n",
    "                     headers=headers,\n",
    "                     cookies=espn_cookies)\n",
    "    team_data = r.json()\n",
    "    team_names = team_data['settings']['proTeams']\n",
    "    df = pd.DataFrame(team_names)\n",
    "    # get only needed columns for teams\n",
    "    ds_df = df[['id', 'location', 'name']].copy()\n",
    "    ds_df[\"team name\"] = ds_df['location'].astype(str) +\" \"+ ds_df[\"name\"]\n",
    "    # rename in column\n",
    "    ds_df.rename(columns = {'id':'team_id'}, inplace = True)\n",
    "    return ds_df"
   ]
  },
  {
   "cell_type": "code",
   "execution_count": 5,
   "metadata": {},
   "outputs": [],
   "source": [
    "url = \"https://fantasy.espn.com/apis/v3/games/flb/seasons/{}/segments/0/leagues/55646?view=kona_player_info_edit_draft_strategy\".format(2022)\n",
    "r = requests.get(url,\n",
    "                     headers=custom_headers_2,\n",
    "                     cookies=espn_cookies)\n",
    "team_data = r.json()"
   ]
  },
  {
   "cell_type": "code",
   "execution_count": 6,
   "metadata": {},
   "outputs": [
    {
     "data": {
      "text/plain": [
       "1"
      ]
     },
     "execution_count": 6,
     "metadata": {},
     "output_type": "execute_result"
    }
   ],
   "source": [
    "team_data['players'][0]['player']['draftRanksByRankType']['STANDARD']['rank']"
   ]
  },
  {
   "cell_type": "code",
   "execution_count": 26,
   "metadata": {},
   "outputs": [
    {
     "data": {
      "text/plain": [
       "[[11, 12, 13, 14, 16, 17], 39832, [10, 5, 12, 16, 17], 36969]"
      ]
     },
     "execution_count": 26,
     "metadata": {},
     "output_type": "execute_result"
    }
   ],
   "source": [
    "[team_data['players'][i]['player'][k] for i in range(0, 2) for k in ['eligibleSlots', 'id']]\n"
   ]
  }
 ],
 "metadata": {
  "kernelspec": {
   "display_name": ".venv",
   "language": "python",
   "name": "python3"
  },
  "language_info": {
   "codemirror_mode": {
    "name": "ipython",
    "version": 3
   },
   "file_extension": ".py",
   "mimetype": "text/x-python",
   "name": "python",
   "nbconvert_exporter": "python",
   "pygments_lexer": "ipython3",
   "version": "3.10.9"
  },
  "orig_nbformat": 4,
  "vscode": {
   "interpreter": {
    "hash": "02ef184bdf01310be20e0538aeda5d28c2bbc83c4cc7b92824d187412d00882c"
   }
  }
 },
 "nbformat": 4,
 "nbformat_minor": 2
}
